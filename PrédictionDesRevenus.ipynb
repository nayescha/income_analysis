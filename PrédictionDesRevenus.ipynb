{
 "cells": [
  {
   "cell_type": "code",
   "execution_count": 1,
   "metadata": {},
   "outputs": [],
   "source": [
    "#Import des librairies Python\n",
    "import pandas as pd\n",
    "import os\n",
    "import numpy as np\n",
    "import seaborn as sns\n",
    "from scipy.cluster.hierarchy import linkage, fcluster, dendrogram\n",
    "from scipy.cluster import hierarchy\n",
    "from sklearn import preprocessing\n",
    "from sklearn import cluster, metrics\n",
    "from sklearn import decomposition\n",
    "import matplotlib.pyplot as plt\n",
    "import matplotlib.patches as mpatches\n",
    "from functions import *\n",
    "import statsmodels.formula.api as smf\n",
    "from sklearn.metrics import pairwise_distances_argmin_min\n",
    "import scipy.stats as st\n",
    "from collections import Counter\n",
    "from tqdm import tqdm \n",
    "import pickle"
   ]
  },
  {
   "cell_type": "code",
   "execution_count": 2,
   "metadata": {},
   "outputs": [
    {
     "name": "stdout",
     "output_type": "stream",
     "text": [
      "Populating the interactive namespace from numpy and matplotlib\n"
     ]
    }
   ],
   "source": [
    "%pylab inline"
   ]
  },
  {
   "cell_type": "code",
   "execution_count": 3,
   "metadata": {},
   "outputs": [
    {
     "data": {
      "text/plain": [
       "'C:\\\\Users\\\\NA00025036\\\\Desktop\\\\autrs\\\\nayescha\\\\07 - PrédictionDesRevenus'"
      ]
     },
     "execution_count": 3,
     "metadata": {},
     "output_type": "execute_result"
    }
   ],
   "source": [
    "cwd = os.getcwd()\n",
    "cwd"
   ]
  },
  {
   "cell_type": "markdown",
   "metadata": {},
   "source": [
    "**Scénario**\n",
    "\n",
    "Vous êtes employé dans une banque, présente dans de nombreux pays à travers le monde. Celle-ci souhaite cibler de nouveaux clients potentiels, plus particulièrement les jeunes en âge d'ouvrir leur tout premier compte bancaire.\n",
    "\n",
    "Cependant, elle souhaite cibler les prospects les plus susceptibles d'avoir, plus tard dans leur vie, de hauts revenus.\n",
    "\n",
    "L'équipe dans laquelle vous travaillez a donc reçu pour mission de créer un modèle permettant de déterminer le revenu potentiel d'une personne.Très bien.\n",
    "\n",
    "\"Quelles informations avons-nous ?\" demandez-vous à votre supérieur, qui vous répond : \"À vrai dire... quasiment aucune : uniquement le revenu des parents, car nous allons cibler les enfants de nos clients actuels, ainsi que le pays où ils habitent. C'est tout ! Ah oui, une dernière chose : ce modèle doit être valable pour la plupart des pays du monde. Je vous laisse méditer là-dessus… Bon courage !\"\n",
    "\n",
    "Avec aussi peu de données disponibles, cela semble être un sacré challenge !\n",
    "\n",
    "Ainsi, vous proposez une régression linéaire avec 3 variables :\n",
    "\n",
    "* le revenu des parents ;\n",
    "* le revenu moyen du pays dans lequel habite le prospect ;\n",
    "* l'indice de Gini calculé sur les revenus des habitants du pays en question. "
   ]
  },
  {
   "cell_type": "markdown",
   "metadata": {},
   "source": [
    "# Mission 1\n",
    "Résumez les données utilisées :\n",
    "\n",
    "* année(s) des données utilisées ;\n",
    "* nombre de pays présents ;\n",
    "* population couverte par l'analyse (en termes de pourcentage de la population mondiale)."
   ]
  },
  {
   "cell_type": "code",
   "execution_count": 4,
   "metadata": {
    "scrolled": true
   },
   "outputs": [
    {
     "name": "stdout",
     "output_type": "stream",
     "text": [
      "0 données en double\n",
      " \n",
      "valeurs nulles par colonne :\n",
      "Country Code    False\n",
      "year_survey     False\n",
      "quantile        False\n",
      "nb_quantiles    False\n",
      "income          False\n",
      "gdpppp          False\n",
      "dtype: bool\n",
      " \n",
      "Années utilisées dans la base : [2008 2009 2010 2007 2006 2011 2004]\n"
     ]
    }
   ],
   "source": [
    "#Téléchargement du fichier de base clients\n",
    "data = pd.read_csv(cwd + '/data/data-projet7.csv')\n",
    "data.rename(columns={'country': 'Country Code'},  inplace=True)\n",
    "\n",
    "#Téléchargement du fichier de base clients\n",
    "data = pd.read_csv(cwd + '/data/data-projet7.csv')\n",
    "data.rename(columns={'country': 'Country Code'},  inplace=True)\n",
    "\n",
    "#Transformer la colonne income et gdpppp en nombre pour pouvoir l'utiliser pour les calculs à venir\n",
    "data['income'] = [x.replace(',', '.') for x in data['income']]\n",
    "data['income'] = pd.to_numeric(data['income'])\n",
    "data['gdpppp'] = data['gdpppp'].astype(str)\n",
    "data['gdpppp'] = [x.replace(',', '.') for x in data['gdpppp']]\n",
    "\n",
    "#Recherche d'éventuelles valeurs en doublon avec la fonction .duplicated()\n",
    "print(str(data.duplicated().sum()) + \" données en double\")\n",
    "print(\" \")\n",
    "#Recherche d'éventuelles valeurs nulles\n",
    "print(\"valeurs nulles par colonne :\")\n",
    "print(str(data.isna().any()))\n",
    "print(\" \")\n",
    "#Affichage des années utilisées dans la base\n",
    "années_analyse = data['year_survey'].unique()\n",
    "print(\"Années utilisées dans la base : \" + str(années_analyse))"
   ]
  },
  {
   "cell_type": "code",
   "execution_count": 5,
   "metadata": {},
   "outputs": [
    {
     "name": "stdout",
     "output_type": "stream",
     "text": [
      "La base a 116 pays\n"
     ]
    },
    {
     "data": {
      "text/html": [
       "<div>\n",
       "<style scoped>\n",
       "    .dataframe tbody tr th:only-of-type {\n",
       "        vertical-align: middle;\n",
       "    }\n",
       "\n",
       "    .dataframe tbody tr th {\n",
       "        vertical-align: top;\n",
       "    }\n",
       "\n",
       "    .dataframe thead th {\n",
       "        text-align: right;\n",
       "    }\n",
       "</style>\n",
       "<table border=\"1\" class=\"dataframe\">\n",
       "  <thead>\n",
       "    <tr style=\"text-align: right;\">\n",
       "      <th></th>\n",
       "      <th>year_survey</th>\n",
       "      <th>quantile</th>\n",
       "      <th>nb_quantiles</th>\n",
       "      <th>income</th>\n",
       "      <th>gdpppp</th>\n",
       "    </tr>\n",
       "    <tr>\n",
       "      <th>Country Code</th>\n",
       "      <th></th>\n",
       "      <th></th>\n",
       "      <th></th>\n",
       "      <th></th>\n",
       "      <th></th>\n",
       "    </tr>\n",
       "  </thead>\n",
       "  <tbody>\n",
       "    <tr>\n",
       "      <th>LTU</th>\n",
       "      <td>1</td>\n",
       "      <td>99</td>\n",
       "      <td>1</td>\n",
       "      <td>99</td>\n",
       "      <td>1</td>\n",
       "    </tr>\n",
       "  </tbody>\n",
       "</table>\n",
       "</div>"
      ],
      "text/plain": [
       "              year_survey  quantile  nb_quantiles  income  gdpppp\n",
       "Country Code                                                     \n",
       "LTU                     1        99             1      99       1"
      ]
     },
     "execution_count": 5,
     "metadata": {},
     "output_type": "execute_result"
    }
   ],
   "source": [
    "#Vérification de la quantité des pays dans la base\n",
    "nbr_pays = data.copy()\n",
    "nbr_pays['nbr'] = 1\n",
    "nbr_pays = nbr_pays[['Country Code', 'nbr']]\n",
    "nbr_pays = nbr_pays[['Country Code', 'nbr']].groupby('Country Code').sum().reset_index()\n",
    "print( \"La base a \" + str(nbr_pays['Country Code'].count()) + \" pays\")\n",
    "\n",
    "#Agrégation des données selon les pays, puis application d'une fonction .nunique()\n",
    "data_nunique = data.groupby('Country Code').nunique()\n",
    "data_nunique[data_nunique['quantile'] < 100]\n"
   ]
  },
  {
   "cell_type": "code",
   "execution_count": 6,
   "metadata": {},
   "outputs": [
    {
     "name": "stdout",
     "output_type": "stream",
     "text": [
      "[1, 2, 3, 4, 5, 6, 7, 8, 9, 10, 11, 12, 13, 14, 15, 16, 17, 18, 19, 20, 21, 22, 23, 24, 25, 26, 27, 28, 29, 30, 31, 32, 33, 34, 35, 36, 37, 38, 39, 40, 42, 43, 44, 45, 46, 47, 48, 49, 50, 51, 52, 53, 54, 55, 56, 57, 58, 59, 60, 61, 62, 63, 64, 65, 66, 67, 68, 69, 70, 71, 72, 73, 74, 75, 76, 77, 78, 79, 80, 81, 82, 83, 84, 85, 86, 87, 88, 89, 90, 91, 92, 93, 94, 95, 96, 97, 98, 99, 100]\n"
     ]
    }
   ],
   "source": [
    "#Visualisation des 99 individus du pays 'LTU'\n",
    "with pd.option_context('display.max_rows', 100):\n",
    "    print(data[data['Country Code'] == 'LTU']['quantile'].tolist())"
   ]
  },
  {
   "cell_type": "code",
   "execution_count": 7,
   "metadata": {},
   "outputs": [],
   "source": [
    "#Calcul du quantile manquant (41)par la moyenne des quantiles -1 et +1 (40 et 42)\n",
    "ltu_41 = data.loc[(data['Country Code'] == 'LTU') & (data['quantile'] == 40) \n",
    "                  | (data['Country Code'] == 'LTU') & (data['quantile'] == 42)]['income'].mean()\n",
    "\n",
    "#Création de la ligne manquante selon le pays 'LTU' & quantile '41'\n",
    "ltu_41_row = pd.DataFrame({'Country Code': ['LTU'], 'year_survey': [2008], 'quantile': [41], \n",
    "                           'nb_quantiles': [100], 'income': [ltu_41], 'gdpppp': 17571.0})\n",
    "\n",
    "#Intégration de la précédente ligne dans le dataframe \"data\"\n",
    "data = pd.concat([data, ltu_41_row], join=\"inner\")\n",
    "\n",
    "#Téléchargement du fichier avec l'index gini\n",
    "gini = pd.read_csv(cwd + '/data/API_SI.POV.GINI_DS2_en_csv_v2_2445276.csv')\n",
    "pop = pd.read_csv(cwd + '/data/population.csv')\n",
    "code_pays = gini[['Country Name', 'Country Code']]\n",
    "\n",
    "#Identification des mêmes années que celles de l'échantillon \"df\"\n",
    "gini_columns = []\n",
    "for value in gini.columns:\n",
    "    gini_columns.append(value)\n",
    "    \n",
    "gini_vars = [year for year in gini_columns if year in (['2004', '2006', '2007', '2008', '2009', '2010', '2011'])]\n",
    "\n",
    "#Mise en forme du dataframe pour obtenir uniquement les indices de Gini disponibles sur les années ci-dessus\n",
    "gini_melt = pd.melt(gini, id_vars =['Country Code', 'Country Name'], value_vars = gini_vars, var_name ='year', \n",
    "                    value_name ='gini')\n",
    "gini_melt['gini'] = round(gini_melt['gini']/100, 2)\n",
    "gini_melt.dropna(inplace=True)\n",
    "gini_melt['year'] = gini_melt['year'].astype(int)"
   ]
  },
  {
   "cell_type": "code",
   "execution_count": 8,
   "metadata": {},
   "outputs": [
    {
     "name": "stdout",
     "output_type": "stream",
     "text": [
      "Quantité des pays dans le df population: 237\n",
      "Quantité des pays dans le df de base: 264\n"
     ]
    }
   ],
   "source": [
    "#Création du dataframe population\n",
    "population = pop.copy()\n",
    "population['Value'] = population['Value']*1000\n",
    "population = population[['Area Code (ISO3)','Area', 'Value']]\n",
    "population.rename(columns={'Area Code (ISO3)': 'Country Code', 'Area': 'Country Name'},  inplace=True)\n",
    "\n",
    "#Liste des noms des pays dans le dataframe population\n",
    "print(\"Quantité des pays dans le df population: \" + str(population['Country Name'].count()))\n",
    "#Liste des noms des pays dans le dataframe de base\n",
    "print(\"Quantité des pays dans le df de base: \" + str(code_pays['Country Name'].count()))"
   ]
  },
  {
   "cell_type": "code",
   "execution_count": 9,
   "metadata": {},
   "outputs": [
    {
     "data": {
      "text/html": [
       "<div>\n",
       "<style scoped>\n",
       "    .dataframe tbody tr th:only-of-type {\n",
       "        vertical-align: middle;\n",
       "    }\n",
       "\n",
       "    .dataframe tbody tr th {\n",
       "        vertical-align: top;\n",
       "    }\n",
       "\n",
       "    .dataframe thead th {\n",
       "        text-align: right;\n",
       "    }\n",
       "</style>\n",
       "<table border=\"1\" class=\"dataframe\">\n",
       "  <thead>\n",
       "    <tr style=\"text-align: right;\">\n",
       "      <th></th>\n",
       "      <th>Country Code</th>\n",
       "      <th>Country Name</th>\n",
       "    </tr>\n",
       "  </thead>\n",
       "  <tbody>\n",
       "    <tr>\n",
       "      <th>0</th>\n",
       "      <td>ALB</td>\n",
       "      <td>Albania</td>\n",
       "    </tr>\n",
       "    <tr>\n",
       "      <th>100</th>\n",
       "      <td>ARG</td>\n",
       "      <td>Argentina</td>\n",
       "    </tr>\n",
       "    <tr>\n",
       "      <th>200</th>\n",
       "      <td>ARM</td>\n",
       "      <td>Armenia</td>\n",
       "    </tr>\n",
       "    <tr>\n",
       "      <th>300</th>\n",
       "      <td>AUT</td>\n",
       "      <td>Austria</td>\n",
       "    </tr>\n",
       "    <tr>\n",
       "      <th>400</th>\n",
       "      <td>AZE</td>\n",
       "      <td>Azerbaijan</td>\n",
       "    </tr>\n",
       "    <tr>\n",
       "      <th>...</th>\n",
       "      <td>...</td>\n",
       "      <td>...</td>\n",
       "    </tr>\n",
       "    <tr>\n",
       "      <th>11099</th>\n",
       "      <td>VNM</td>\n",
       "      <td>Vietnam</td>\n",
       "    </tr>\n",
       "    <tr>\n",
       "      <th>11199</th>\n",
       "      <td>PSE</td>\n",
       "      <td>West Bank and Gaza</td>\n",
       "    </tr>\n",
       "    <tr>\n",
       "      <th>11299</th>\n",
       "      <td>YEM</td>\n",
       "      <td>NaN</td>\n",
       "    </tr>\n",
       "    <tr>\n",
       "      <th>11399</th>\n",
       "      <td>ZAF</td>\n",
       "      <td>South Africa</td>\n",
       "    </tr>\n",
       "    <tr>\n",
       "      <th>11499</th>\n",
       "      <td>COD</td>\n",
       "      <td>NaN</td>\n",
       "    </tr>\n",
       "  </tbody>\n",
       "</table>\n",
       "<p>116 rows × 2 columns</p>\n",
       "</div>"
      ],
      "text/plain": [
       "      Country Code        Country Name\n",
       "0              ALB             Albania\n",
       "100            ARG           Argentina\n",
       "200            ARM             Armenia\n",
       "300            AUT             Austria\n",
       "400            AZE          Azerbaijan\n",
       "...            ...                 ...\n",
       "11099          VNM             Vietnam\n",
       "11199          PSE  West Bank and Gaza\n",
       "11299          YEM                 NaN\n",
       "11399          ZAF        South Africa\n",
       "11499          COD                 NaN\n",
       "\n",
       "[116 rows x 2 columns]"
      ]
     },
     "execution_count": 9,
     "metadata": {},
     "output_type": "execute_result"
    }
   ],
   "source": [
    "#Vérification des correspondaces nom pays / code pays d'après notre dataframe de base \"data\" \n",
    "data_code = data.copy()\n",
    "data_code = data_code[['Country Code']]\n",
    "\n",
    "data_pays_code = pd.merge(data_code, code_pays, on='Country Code', how='left')\n",
    "data_pays_code = data_pays_code.drop_duplicates()\n",
    "data_pays_code"
   ]
  },
  {
   "cell_type": "code",
   "execution_count": 10,
   "metadata": {},
   "outputs": [
    {
     "data": {
      "text/html": [
       "<div>\n",
       "<style scoped>\n",
       "    .dataframe tbody tr th:only-of-type {\n",
       "        vertical-align: middle;\n",
       "    }\n",
       "\n",
       "    .dataframe tbody tr th {\n",
       "        vertical-align: top;\n",
       "    }\n",
       "\n",
       "    .dataframe thead th {\n",
       "        text-align: right;\n",
       "    }\n",
       "</style>\n",
       "<table border=\"1\" class=\"dataframe\">\n",
       "  <thead>\n",
       "    <tr style=\"text-align: right;\">\n",
       "      <th></th>\n",
       "      <th>Country Code</th>\n",
       "      <th>Country Name</th>\n",
       "    </tr>\n",
       "  </thead>\n",
       "  <tbody>\n",
       "    <tr>\n",
       "      <th>2800</th>\n",
       "      <td>EGY</td>\n",
       "      <td>NaN</td>\n",
       "    </tr>\n",
       "    <tr>\n",
       "      <th>4600</th>\n",
       "      <td>IRN</td>\n",
       "      <td>NaN</td>\n",
       "    </tr>\n",
       "    <tr>\n",
       "      <th>5700</th>\n",
       "      <td>KOR</td>\n",
       "      <td>NaN</td>\n",
       "    </tr>\n",
       "    <tr>\n",
       "      <th>10399</th>\n",
       "      <td>TWN</td>\n",
       "      <td>NaN</td>\n",
       "    </tr>\n",
       "    <tr>\n",
       "      <th>10999</th>\n",
       "      <td>VEN</td>\n",
       "      <td>NaN</td>\n",
       "    </tr>\n",
       "    <tr>\n",
       "      <th>11299</th>\n",
       "      <td>YEM</td>\n",
       "      <td>NaN</td>\n",
       "    </tr>\n",
       "    <tr>\n",
       "      <th>11499</th>\n",
       "      <td>COD</td>\n",
       "      <td>NaN</td>\n",
       "    </tr>\n",
       "  </tbody>\n",
       "</table>\n",
       "</div>"
      ],
      "text/plain": [
       "      Country Code Country Name\n",
       "2800           EGY          NaN\n",
       "4600           IRN          NaN\n",
       "5700           KOR          NaN\n",
       "10399          TWN          NaN\n",
       "10999          VEN          NaN\n",
       "11299          YEM          NaN\n",
       "11499          COD          NaN"
      ]
     },
     "execution_count": 10,
     "metadata": {},
     "output_type": "execute_result"
    }
   ],
   "source": [
    "#Vérification des correspondaces nom pays / code pays d'après notre dataframe de base \"data\" \n",
    "data_code = data.copy()\n",
    "data_code = data_code[['Country Code']]\n",
    "\n",
    "data_pays_code = pd.merge(data_code, code_pays, on='Country Code', how='left')\n",
    "data_pays_code = data_pays_code.drop_duplicates()\n",
    "\n",
    "#Filtre pour avoir la liste de ces pays sans nom\n",
    "filtre = data_pays_code[\"Country Name\"].isnull()\n",
    "data_pays_code[filtre]"
   ]
  },
  {
   "cell_type": "code",
   "execution_count": 11,
   "metadata": {},
   "outputs": [
    {
     "name": "stdout",
     "output_type": "stream",
     "text": [
      "Country Code    False\n",
      "Country Name    False\n",
      "dtype: bool\n",
      "\n",
      "Le dataframe des correspondances code/nom pays a 0 doublons\n"
     ]
    }
   ],
   "source": [
    "#Création d'un dataframe avec les correspondances des codes sans nom de pays\n",
    "code_nan = pd.DataFrame({'Country Code': ['EGY', 'IRN', 'KOR', 'TWN', 'VEN', 'YEM', 'COD'], 'Country Name': ['Egypt', 'Iran (Islamic Republic of)', \"Democratic People's Republic of Korea\", 'China, Taiwan Province of', 'Venezuela (Bolivarian Republic of)', 'Yemen', 'Congo']})\n",
    "\n",
    "#Suppresion des lignes avec des NaN\n",
    "index_with_nan = data_pays_code.index[data_pays_code.isnull().any(axis=1)]\n",
    "data_pays_code.drop(index_with_nan,0, inplace=True)\n",
    "\n",
    "#Ajout des codes pays et nom pays pour les pays manquants\n",
    "data_pays_code_name = pd.concat([data_pays_code, code_nan], axis=0)\n",
    "data_pays_code_name.reset_index()\n",
    "\n",
    "#Vérification que le dataframe \"data_pays_code_name\" n'a pas des valeures nulles ni doublons\n",
    "print(data_pays_code_name.isna().any())\n",
    "print( )\n",
    "print('Le dataframe des correspondances code/nom pays a ' + str(data_pays_code_name.duplicated().sum()) + \" doublons\")"
   ]
  },
  {
   "cell_type": "code",
   "execution_count": 12,
   "metadata": {},
   "outputs": [
    {
     "name": "stdout",
     "output_type": "stream",
     "text": [
      "Valeurs nulles dataframe data_pop : \n",
      "Country Code    False\n",
      "Country Name    False\n",
      "Value            True\n",
      "dtype: bool\n",
      "  \n",
      "2 émé verification des valeurs nulles dataframe data_pop : \n",
      "Country Code    False\n",
      "Country Name    False\n",
      "Value           False\n",
      "dtype: bool\n"
     ]
    }
   ],
   "source": [
    "#Ajout des codes pays manquants dans le dataframe population\n",
    "data_pop = pd.merge(data_pays_code_name, population, on='Country Code', how='left')\n",
    "data_pop = data_pop.drop(['Country Name_y'], axis=1)\n",
    "data_pop.rename(columns={'Country Name_x': 'Country Name'},  inplace=True)\n",
    "\n",
    "#Vérification si il y a des valeurs nulles dans le dataframe data_pop\n",
    "print(\"Valeurs nulles dataframe data_pop : \")\n",
    "print(str(data_pop.isna().any()))\n",
    "\n",
    "\n",
    "#Vérification des pays sans donnée population\n",
    "filtre_pop = data_pop.copy()\n",
    "filtre_pop = filtre_pop['Value'].isnull()\n",
    "pop_nan = data_pop[filtre_pop]\n",
    "\n",
    "#Remlir le valeur manquant dans le dataframe data_pop\n",
    "data_pop.loc[55, 'Value'] = 1920079\n",
    "\n",
    "#2ème vérification si il y a des valeurs nulles dans le dataframe data_pop\n",
    "print(\"  \")\n",
    "print(\"2 émé verification des valeurs nulles dataframe data_pop : \")\n",
    "print(str(data_pop.isna().any()))\n"
   ]
  },
  {
   "cell_type": "code",
   "execution_count": 13,
   "metadata": {},
   "outputs": [
    {
     "name": "stdout",
     "output_type": "stream",
     "text": [
      "La base a 116 pays\n",
      "Années utilisées dans la base : [2004, 2006, 2007, 2008, 2009, 2010, 2011]\n",
      "Nous avons dans la base 6978073099.00 personnes, soit 76.76% de la population mondiale\n"
     ]
    }
   ],
   "source": [
    "#Calcul de la population mondiale reprensenté dans par l'échantillon\n",
    "population_base = data_pop['Value'].sum()\n",
    "population_mond = population['Value'].sum()\n",
    "rapport_pops = (population_base/population_mond)*100.\n",
    "\n",
    "print( \"La base a \" + str(nbr_pays['Country Code'].count()) + \" pays\")\n",
    "print(\"Années utilisées dans la base : \" + str(sorted(années_analyse)))\n",
    "print(\"Nous avons dans la base \" + str(\"%.2f\"%(population_base)) + \" personnes, \\\n",
    "soit \"+ str(\"%.2f\"%(rapport_pops)) + \"% de la population mondiale\")"
   ]
  },
  {
   "cell_type": "markdown",
   "metadata": {},
   "source": [
    "Les données de la World Income Distribution présentent pour chaque pays les quantiles de la distribution des revenus de leur population respective.\n",
    "\n",
    "* De quel type de quantiles s'agit-il (quartiles, déciles, etc.) ?\n",
    "* Échantillonner une population en utilisant des quantiles est-il selon vous une bonne méthode ? Pourquoi ?\n",
    "\n",
    "**Nous appellerons ici chaque quantile une classe de revenu.\n",
    "Ainsi, la valeur de la colonne income pour un quantile donné peut être vue comme le revenu moyen des personnes appartenant à la classe de revenu correspondante à ce quantile.**\n",
    "\n",
    "L'unité utilisée dans la colonne income de la world income distribution est le $PPP. Cette unité est calculée par la Banque mondiale, selon la méthode Eltöte-Köves-Szulc. Après vous être documenté, vous expliquerez à votre mentor très brièvement à quoi correspond cette unité et pourquoi elle est pertinente pour une comparaison de pays différents (Il n'est pas nécessaire de donner cette explication lors de la soutenance).\n",
    "__________________________________________________________________________________________________________________\n",
    "\n",
    "La notion de quantile (ou de fractile) est le terme général pour désigner les valeurs qui divisent un jeu de données en intervalles contenant le même nombre de données. Il y a donc un quantile de moins que le nombre de groupes créés puisqu'en divisant une population en n il y a bien n-1 quantiles."
   ]
  },
  {
   "cell_type": "code",
   "execution_count": 14,
   "metadata": {},
   "outputs": [
    {
     "data": {
      "text/plain": [
       "<AxesSubplot:xlabel='quantile'>"
      ]
     },
     "execution_count": 14,
     "metadata": {},
     "output_type": "execute_result"
    },
    {
     "data": {
      "image/png": "[encoded data removed]",
      "text/plain": [
       "<Figure size 576x360 with 1 Axes>"
      ]
     },
     "metadata": {
      "needs_background": "light"
     },
     "output_type": "display_data"
    },
    {
     "data": {
      "image/png": "[encoded data removed]",
      "text/plain": [
       "<Figure size 576x360 with 1 Axes>"
      ]
     },
     "metadata": {
      "needs_background": "light"
     },
     "output_type": "display_data"
    }
   ],
   "source": [
    "labels = ['20', '40', '60', '80', '100']\n",
    "#Regroupement des quantiles en faisant leur moyenne\n",
    "df_quantile = data[['quantile', 'income']].groupby('quantile').agg({'income': ['mean']}).reset_index()\n",
    "df_quantile.columns = ['quantile', 'income']\n",
    "\n",
    "#Vérification des écarts entre les quantiles en $\n",
    "df_quantile['diff'] = df_quantile['income'].diff()\n",
    "\n",
    "#Affichage d'un plot bar pour vérifier la distribuition de la moyenne des quantiles \n",
    "df_quantile.plot.bar(x='quantile', y='income', rot=0, figsize=(8,5))\n",
    "plt.xticks(np.arange(0,100, 20))\n",
    "# et la distribuition des écarts entre les quantiles\n",
    "df_quantile.plot.bar(x='quantile', y='diff', rot=0, figsize=(8,5))\n"
   ]
  },
  {
   "cell_type": "code",
   "execution_count": 15,
   "metadata": {},
   "outputs": [
    {
     "data": {
      "text/plain": [
       "<AxesSubplot:xlabel='quantile'>"
      ]
     },
     "execution_count": 15,
     "metadata": {},
     "output_type": "execute_result"
    },
    {
     "data": {
      "image/png": "[encoded data removed]",
      "text/plain": [
       "<Figure size 576x360 with 1 Axes>"
      ]
     },
     "metadata": {
      "needs_background": "light"
     },
     "output_type": "display_data"
    },
    {
     "data": {
      "image/png": "[encoded data removed]",
      "text/plain": [
       "<Figure size 576x360 with 1 Axes>"
      ]
     },
     "metadata": {
      "needs_background": "light"
     },
     "output_type": "display_data"
    }
   ],
   "source": [
    "#Suppression des quantiles 100, 99, 98, 97 car trop d'écart pour vérifier si la distribuition est homogène \n",
    "df_quantile_ss = df_quantile.copy()\n",
    "df_quantile_ss = df_quantile_ss[df_quantile_ss['quantile'] != 100]\n",
    "df_quantile_ss = df_quantile_ss[df_quantile_ss['quantile'] != 99]\n",
    "df_quantile_ss = df_quantile_ss[df_quantile_ss['quantile'] != 98]\n",
    "df_quantile_ss = df_quantile_ss[df_quantile_ss['quantile'] != 97]\n",
    "df_quantile_ss.plot.bar(x='quantile', y='income', rot=0, figsize=(8,5))\n",
    "df_quantile_ss.plot.bar(x='quantile', y='diff', rot=0, figsize=(8,5))"
   ]
  },
  {
   "cell_type": "code",
   "execution_count": 16,
   "metadata": {},
   "outputs": [
    {
     "data": {
      "text/plain": [
       "<AxesSubplot:xlabel='quantile'>"
      ]
     },
     "execution_count": 16,
     "metadata": {},
     "output_type": "execute_result"
    },
    {
     "data": {
      "image/png": "[encoded data removed]",
      "text/plain": [
       "<Figure size 1296x576 with 1 Axes>"
      ]
     },
     "metadata": {
      "needs_background": "light"
     },
     "output_type": "display_data"
    },
    {
     "data": {
      "image/png": "[encoded data removed]",
      "text/plain": [
       "<Figure size 1296x576 with 1 Axes>"
      ]
     },
     "metadata": {
      "needs_background": "light"
     },
     "output_type": "display_data"
    }
   ],
   "source": [
    "#Régoupemment des quantiles par la variance std et visualisation des distribuitions\n",
    "df_quantile_std = data[['quantile', 'income']].groupby('quantile').agg({'income': ['std']}).reset_index()\n",
    "df_quantile_std['diff'] = df_quantile_std['income'].diff()\n",
    "df_quantile_std.plot.bar(x='quantile', y='income', rot=0, figsize=(18,8))\n",
    "df_quantile_std.plot.bar(x='quantile', y='diff', rot=0, figsize=(18,8))"
   ]
  },
  {
   "cell_type": "code",
   "execution_count": 17,
   "metadata": {},
   "outputs": [
    {
     "data": {
      "text/plain": [
       "<AxesSubplot:xlabel='quantile'>"
      ]
     },
     "execution_count": 17,
     "metadata": {},
     "output_type": "execute_result"
    },
    {
     "data": {
      "image/png": "[encoded data removed]",
      "text/plain": [
       "<Figure size 576x360 with 1 Axes>"
      ]
     },
     "metadata": {
      "needs_background": "light"
     },
     "output_type": "display_data"
    },
    {
     "data": {
      "image/png": "[encoded data removed]",
      "text/plain": [
       "<Figure size 576x360 with 1 Axes>"
      ]
     },
     "metadata": {
      "needs_background": "light"
     },
     "output_type": "display_data"
    }
   ],
   "source": [
    "#Suppression des quantiles 100, 99, 98, 97 car trop d'écart pour vérifier si la distribuition des variances est homogène \n",
    "df_quantile_ss_std = df_quantile_std.copy()\n",
    "df_quantile_ss_std = df_quantile_ss_std[df_quantile_ss_std['quantile'] != 100]\n",
    "df_quantile_ss_std = df_quantile_ss_std[df_quantile_ss_std['quantile'] != 99]\n",
    "df_quantile_ss_std = df_quantile_ss_std[df_quantile_ss_std['quantile'] != 98]\n",
    "df_quantile_ss_std = df_quantile_ss_std[df_quantile_ss_std['quantile'] != 97]\n",
    "df_quantile_ss_std.plot.bar(x='quantile', y='income', rot=0, figsize=(8,5))\n",
    "df_quantile_ss_std.plot.bar(x='quantile', y='diff', rot=0, figsize=(8,5))"
   ]
  },
  {
   "cell_type": "markdown",
   "metadata": {},
   "source": [
    "# Mission 2\n",
    "\n",
    "* Montrez la diversité des pays en termes de distribution de revenus à l'aide d'un graphique. Celui-ci représentera le revenu moyen (axe des ordonnées, sur une échelle logarithmique) de chacune des classes de revenus (axe des abscisses) pour 5 à 10 pays que vous aurez choisis pour montrer la diversité des cas.\n",
    "* Représentez la courbe de Lorenz de chacun des pays choisis.\n",
    "* Pour chacun de ces pays, représentez l'évolution de l'indice de Gini au fil des ans.\n",
    "* Classez les pays par indice de Gini. Donnez la moyenne, les 5 pays ayant l'indice de Gini le plus élevé et les 5 pays ayant l'indice de Gini le plus faible. En quelle position se trouve la France ?"
   ]
  },
  {
   "cell_type": "code",
   "execution_count": 18,
   "metadata": {},
   "outputs": [
    {
     "data": {
      "text/html": [
       "<div>\n",
       "<style scoped>\n",
       "    .dataframe tbody tr th:only-of-type {\n",
       "        vertical-align: middle;\n",
       "    }\n",
       "\n",
       "    .dataframe tbody tr th {\n",
       "        vertical-align: top;\n",
       "    }\n",
       "\n",
       "    .dataframe thead th {\n",
       "        text-align: right;\n",
       "    }\n",
       "</style>\n",
       "<table border=\"1\" class=\"dataframe\">\n",
       "  <thead>\n",
       "    <tr style=\"text-align: right;\">\n",
       "      <th></th>\n",
       "      <th>Country Code</th>\n",
       "      <th>year_survey</th>\n",
       "      <th>quantile</th>\n",
       "      <th>nb_quantiles</th>\n",
       "      <th>income</th>\n",
       "      <th>gdpppp</th>\n",
       "    </tr>\n",
       "  </thead>\n",
       "  <tbody>\n",
       "    <tr>\n",
       "      <th>5811</th>\n",
       "      <td>XKX</td>\n",
       "      <td>2008</td>\n",
       "      <td>12</td>\n",
       "      <td>100</td>\n",
       "      <td>959.44720</td>\n",
       "      <td>nan</td>\n",
       "    </tr>\n",
       "    <tr>\n",
       "      <th>5812</th>\n",
       "      <td>XKX</td>\n",
       "      <td>2008</td>\n",
       "      <td>13</td>\n",
       "      <td>100</td>\n",
       "      <td>986.60974</td>\n",
       "      <td>nan</td>\n",
       "    </tr>\n",
       "    <tr>\n",
       "      <th>5813</th>\n",
       "      <td>XKX</td>\n",
       "      <td>2008</td>\n",
       "      <td>14</td>\n",
       "      <td>100</td>\n",
       "      <td>1006.39140</td>\n",
       "      <td>nan</td>\n",
       "    </tr>\n",
       "    <tr>\n",
       "      <th>5814</th>\n",
       "      <td>XKX</td>\n",
       "      <td>2008</td>\n",
       "      <td>15</td>\n",
       "      <td>100</td>\n",
       "      <td>1028.35720</td>\n",
       "      <td>nan</td>\n",
       "    </tr>\n",
       "    <tr>\n",
       "      <th>5815</th>\n",
       "      <td>XKX</td>\n",
       "      <td>2008</td>\n",
       "      <td>16</td>\n",
       "      <td>100</td>\n",
       "      <td>1052.11940</td>\n",
       "      <td>nan</td>\n",
       "    </tr>\n",
       "    <tr>\n",
       "      <th>5816</th>\n",
       "      <td>XKX</td>\n",
       "      <td>2008</td>\n",
       "      <td>17</td>\n",
       "      <td>100</td>\n",
       "      <td>1076.16330</td>\n",
       "      <td>nan</td>\n",
       "    </tr>\n",
       "    <tr>\n",
       "      <th>5817</th>\n",
       "      <td>XKX</td>\n",
       "      <td>2008</td>\n",
       "      <td>18</td>\n",
       "      <td>100</td>\n",
       "      <td>1097.54080</td>\n",
       "      <td>nan</td>\n",
       "    </tr>\n",
       "    <tr>\n",
       "      <th>5818</th>\n",
       "      <td>XKX</td>\n",
       "      <td>2008</td>\n",
       "      <td>19</td>\n",
       "      <td>100</td>\n",
       "      <td>1121.99760</td>\n",
       "      <td>nan</td>\n",
       "    </tr>\n",
       "    <tr>\n",
       "      <th>5819</th>\n",
       "      <td>XKX</td>\n",
       "      <td>2008</td>\n",
       "      <td>20</td>\n",
       "      <td>100</td>\n",
       "      <td>1146.63530</td>\n",
       "      <td>nan</td>\n",
       "    </tr>\n",
       "    <tr>\n",
       "      <th>5820</th>\n",
       "      <td>XKX</td>\n",
       "      <td>2008</td>\n",
       "      <td>21</td>\n",
       "      <td>100</td>\n",
       "      <td>1171.98680</td>\n",
       "      <td>nan</td>\n",
       "    </tr>\n",
       "  </tbody>\n",
       "</table>\n",
       "</div>"
      ],
      "text/plain": [
       "     Country Code  year_survey  quantile  nb_quantiles      income gdpppp\n",
       "5811          XKX         2008        12           100   959.44720    nan\n",
       "5812          XKX         2008        13           100   986.60974    nan\n",
       "5813          XKX         2008        14           100  1006.39140    nan\n",
       "5814          XKX         2008        15           100  1028.35720    nan\n",
       "5815          XKX         2008        16           100  1052.11940    nan\n",
       "5816          XKX         2008        17           100  1076.16330    nan\n",
       "5817          XKX         2008        18           100  1097.54080    nan\n",
       "5818          XKX         2008        19           100  1121.99760    nan\n",
       "5819          XKX         2008        20           100  1146.63530    nan\n",
       "5820          XKX         2008        21           100  1171.98680    nan"
      ]
     },
     "execution_count": 18,
     "metadata": {},
     "output_type": "execute_result"
    }
   ],
   "source": [
    "data.iloc[5811:5821]"
   ]
  },
  {
   "cell_type": "code",
   "execution_count": 19,
   "metadata": {},
   "outputs": [
    {
     "data": {
      "text/plain": [
       "Country Code    29\n",
       "Country Name    29\n",
       "gini             0\n",
       "dtype: int64"
      ]
     },
     "execution_count": 19,
     "metadata": {},
     "output_type": "execute_result"
    }
   ],
   "source": [
    "#Remplissage des valeurs manquants pour le gdppp\n",
    "mask = data['Country Code'].str.startswith('XKX')\n",
    "data.loc[mask, 'gdpppp'] = 7249.357\n",
    "\n",
    "mask2 = data['Country Code'].str.startswith('PSE')\n",
    "data.loc[mask2, 'gdpppp'] = 2035.20\n",
    "\n",
    "#Renommage des colonnes\n",
    "df = pd.merge(data, data_pop, on='Country Code', how='left')\n",
    "df.rename(columns={'Value': 'Population','year_survey': 'year' },  inplace=True)\n",
    "\n",
    "#Jointure des indices de Gini \"gini_melt\" avec l'échantillon \"df\"\n",
    "df = pd.merge(df, gini_melt, how='left', on=['Country Code', 'Country Name', 'year'])\n",
    "\n",
    "#Vérification des pays sans donnée GINI\n",
    "filtre_df = df.copy()\n",
    "filtre_df = filtre_df['gini'].isnull()\n",
    "df_nan = df[filtre_df]\n",
    "df_nan = df_nan[['Country Code', 'Country Name', 'gini']]\n",
    "df_nan = df_nan.drop_duplicates()\n",
    "df_nan.count()"
   ]
  },
  {
   "cell_type": "code",
   "execution_count": 20,
   "metadata": {},
   "outputs": [
    {
     "data": {
      "text/html": [
       "<div>\n",
       "<style scoped>\n",
       "    .dataframe tbody tr th:only-of-type {\n",
       "        vertical-align: middle;\n",
       "    }\n",
       "\n",
       "    .dataframe tbody tr th {\n",
       "        vertical-align: top;\n",
       "    }\n",
       "\n",
       "    .dataframe thead th {\n",
       "        text-align: right;\n",
       "    }\n",
       "</style>\n",
       "<table border=\"1\" class=\"dataframe\">\n",
       "  <thead>\n",
       "    <tr style=\"text-align: right;\">\n",
       "      <th></th>\n",
       "      <th>Country Code</th>\n",
       "      <th>year_survey</th>\n",
       "      <th>quantile</th>\n",
       "      <th>nb_quantiles</th>\n",
       "      <th>income</th>\n",
       "      <th>gdpppp</th>\n",
       "    </tr>\n",
       "  </thead>\n",
       "  <tbody>\n",
       "    <tr>\n",
       "      <th>5750</th>\n",
       "      <td>KOR</td>\n",
       "      <td>2008</td>\n",
       "      <td>51</td>\n",
       "      <td>100</td>\n",
       "      <td>12926.3760</td>\n",
       "      <td>19162</td>\n",
       "    </tr>\n",
       "    <tr>\n",
       "      <th>5751</th>\n",
       "      <td>KOR</td>\n",
       "      <td>2008</td>\n",
       "      <td>52</td>\n",
       "      <td>100</td>\n",
       "      <td>13122.7770</td>\n",
       "      <td>19162</td>\n",
       "    </tr>\n",
       "    <tr>\n",
       "      <th>5752</th>\n",
       "      <td>KOR</td>\n",
       "      <td>2008</td>\n",
       "      <td>53</td>\n",
       "      <td>100</td>\n",
       "      <td>13315.4630</td>\n",
       "      <td>19162</td>\n",
       "    </tr>\n",
       "    <tr>\n",
       "      <th>5753</th>\n",
       "      <td>KOR</td>\n",
       "      <td>2008</td>\n",
       "      <td>54</td>\n",
       "      <td>100</td>\n",
       "      <td>13479.1320</td>\n",
       "      <td>19162</td>\n",
       "    </tr>\n",
       "    <tr>\n",
       "      <th>5754</th>\n",
       "      <td>KOR</td>\n",
       "      <td>2008</td>\n",
       "      <td>55</td>\n",
       "      <td>100</td>\n",
       "      <td>13690.5360</td>\n",
       "      <td>19162</td>\n",
       "    </tr>\n",
       "    <tr>\n",
       "      <th>...</th>\n",
       "      <td>...</td>\n",
       "      <td>...</td>\n",
       "      <td>...</td>\n",
       "      <td>...</td>\n",
       "      <td>...</td>\n",
       "      <td>...</td>\n",
       "    </tr>\n",
       "    <tr>\n",
       "      <th>5816</th>\n",
       "      <td>XKX</td>\n",
       "      <td>2008</td>\n",
       "      <td>17</td>\n",
       "      <td>100</td>\n",
       "      <td>1076.1633</td>\n",
       "      <td>7249.36</td>\n",
       "    </tr>\n",
       "    <tr>\n",
       "      <th>5817</th>\n",
       "      <td>XKX</td>\n",
       "      <td>2008</td>\n",
       "      <td>18</td>\n",
       "      <td>100</td>\n",
       "      <td>1097.5408</td>\n",
       "      <td>7249.36</td>\n",
       "    </tr>\n",
       "    <tr>\n",
       "      <th>5818</th>\n",
       "      <td>XKX</td>\n",
       "      <td>2008</td>\n",
       "      <td>19</td>\n",
       "      <td>100</td>\n",
       "      <td>1121.9976</td>\n",
       "      <td>7249.36</td>\n",
       "    </tr>\n",
       "    <tr>\n",
       "      <th>5819</th>\n",
       "      <td>XKX</td>\n",
       "      <td>2008</td>\n",
       "      <td>20</td>\n",
       "      <td>100</td>\n",
       "      <td>1146.6353</td>\n",
       "      <td>7249.36</td>\n",
       "    </tr>\n",
       "    <tr>\n",
       "      <th>5820</th>\n",
       "      <td>XKX</td>\n",
       "      <td>2008</td>\n",
       "      <td>21</td>\n",
       "      <td>100</td>\n",
       "      <td>1171.9868</td>\n",
       "      <td>7249.36</td>\n",
       "    </tr>\n",
       "  </tbody>\n",
       "</table>\n",
       "<p>71 rows × 6 columns</p>\n",
       "</div>"
      ],
      "text/plain": [
       "     Country Code  year_survey  quantile  nb_quantiles      income   gdpppp\n",
       "5750          KOR         2008        51           100  12926.3760    19162\n",
       "5751          KOR         2008        52           100  13122.7770    19162\n",
       "5752          KOR         2008        53           100  13315.4630    19162\n",
       "5753          KOR         2008        54           100  13479.1320    19162\n",
       "5754          KOR         2008        55           100  13690.5360    19162\n",
       "...           ...          ...       ...           ...         ...      ...\n",
       "5816          XKX         2008        17           100   1076.1633  7249.36\n",
       "5817          XKX         2008        18           100   1097.5408  7249.36\n",
       "5818          XKX         2008        19           100   1121.9976  7249.36\n",
       "5819          XKX         2008        20           100   1146.6353  7249.36\n",
       "5820          XKX         2008        21           100   1171.9868  7249.36\n",
       "\n",
       "[71 rows x 6 columns]"
      ]
     },
     "execution_count": 20,
     "metadata": {},
     "output_type": "execute_result"
    }
   ],
   "source": [
    "data.iloc[5750:5821]"
   ]
  },
  {
   "cell_type": "code",
   "execution_count": 21,
   "metadata": {},
   "outputs": [],
   "source": [
    "#Isolement des pays selon les années dont l'indice de Gini est manquant\n",
    "missing_gini = df[df.isna().any(axis=1)].drop_duplicates(subset=['Country Code', 'quantile', 'year'])\n",
    "\n",
    "#Calcul des indices de Gini manquants\n",
    "list_gini = []\n",
    "for code in missing_gini['Country Code'] : \n",
    "    dep = missing_gini[missing_gini['Country Code'] == code]['income'].values\n",
    "    n = len(dep)\n",
    "    lorenz = np.cumsum(np.sort(dep)) / dep.sum()\n",
    "\n",
    "    AUC = (lorenz.sum() -lorenz[-1]/2 -lorenz[0]/2)/n\n",
    "    S = 0.5 - AUC \n",
    "    Gini = round(2*S, 2)\n",
    "    list_gini.append(Gini)\n",
    "    \n",
    "#Intégration des indices de Gini dans le dataframe \"find_gini\" issu de \"missing_gini\"\n",
    "find_gini = missing_gini.copy()\n",
    "find_gini.loc[:,'gini'] = list_gini\n",
    "\n",
    "#Intégration des valeurs manquantes dans l'échantillon \"df\"\n",
    "for code in list(find_gini['Country Code'].unique()) :\n",
    "    df.loc[df['Country Code'] == code,'gini'] = (find_gini.loc[find_gini['Country Code'] == code,'gini'])\n",
    "    \n",
    "#Clustering fait à partir d'une copie de l'échantillon, ici nommée \"df_clustering\"\n",
    "df_clustering = df.copy()\n",
    "df_clustering = df_clustering[df_clustering['Country Name'] != 'Fiji']"
   ]
  },
  {
   "cell_type": "markdown",
   "metadata": {},
   "source": [
    "La visualisation précédente des distributions de nos variables avait exposée quelques outliers. Le pays Fiji sera exclu du clustering car sa valeur du gdpppp est très influente."
   ]
  },
  {
   "cell_type": "code",
   "execution_count": 22,
   "metadata": {},
   "outputs": [
    {
     "data": {
      "text/plain": [
       "(115, 4)"
      ]
     },
     "metadata": {},
     "output_type": "display_data"
    },
    {
     "data": {
      "text/plain": [
       "(115,)"
      ]
     },
     "metadata": {},
     "output_type": "display_data"
    }
   ],
   "source": [
    "#Transformation en array Numpy\n",
    "#Indexation selon les pays par la fonction .set_index()\n",
    "df_clustering.set_index('Country Name', inplace=True)\n",
    "\n",
    "#Par simplification (gain en temps de calcul), le clustering sera fait sur le premier quantile\n",
    "#Suppression des lignes par méthode .drop_duplicates()\n",
    "df_clustering.drop_duplicates(subset=['Country Code'], inplace=True)\n",
    "\n",
    "#Préparation des données pour le clustering K-Means\n",
    "#Ici le clustering sera établi sur les valeurs des variables 'gdpppp' et 'gini'\n",
    "X = df_clustering.loc[:, ['gdpppp', 'gini', 'Population', 'income']].values\n",
    "Y = df_clustering.index\n",
    "\n",
    "display(X.shape)\n",
    "display(Y.shape)"
   ]
  },
  {
   "cell_type": "markdown",
   "metadata": {},
   "source": [
    "Le .shape me permet de vérifier que les 116 pays (moins le pays Fiji) sont toujours dans les données à clusteriser, y compris les deux variables descriptives."
   ]
  },
  {
   "cell_type": "code",
   "execution_count": 23,
   "metadata": {},
   "outputs": [
    {
     "data": {
      "text/plain": [
       "(115, 4)"
      ]
     },
     "execution_count": 23,
     "metadata": {},
     "output_type": "execute_result"
    }
   ],
   "source": [
    "#Centrage / réduction des données (nécessaire pour éviter les décalages d'échelle)\n",
    "std_scale = preprocessing.StandardScaler().fit(X)\n",
    "X_scaled = std_scale.transform(X)\n",
    "X_scaled.shape"
   ]
  },
  {
   "cell_type": "code",
   "execution_count": 24,
   "metadata": {},
   "outputs": [
    {
     "data": {
      "image/png": "[encoded data removed]",
      "text/plain": [
       "<Figure size 432x288 with 1 Axes>"
      ]
     },
     "metadata": {
      "needs_background": "light"
     },
     "output_type": "display_data"
    }
   ],
   "source": [
    "#Calcul  de la métrique \"silhouette\" pour différents nombres de groupes issus de la méthode des centres mobiles\n",
    "#Liste pour stocker nos coefficients\n",
    "silhouettes = [] \n",
    "\n",
    "#Boucle itérative de 2 à 10 (clusters) pour tester les possibilités\n",
    "for k in range(2, 10): \n",
    "    #Création et ajustement d'un modèle pour chaque k\n",
    "    cls = cluster.KMeans(n_clusters=k)  \n",
    "    cls.fit(X_scaled)\n",
    "    \n",
    "    #Stockage des coefficients associés\n",
    "    silh = metrics.silhouette_score(X_scaled, cls.labels_)\n",
    "    silhouettes.append(silh)\n",
    "    \n",
    "#Visualisation des valeurs de coefficient de silhouette pour chaque nombre de cluster\n",
    "plt.plot(range(2, 10), silhouettes, marker='o')\n",
    "plt.show()"
   ]
  },
  {
   "cell_type": "code",
   "execution_count": 28,
   "metadata": {},
   "outputs": [
    {
     "data": {
      "text/plain": [
       "Index(['China', 'India', 'North Macedonia', 'Portugal', 'Russian Federation',\n",
       "       'Romania', 'Democratic People's Republic of Korea', 'Turkey',\n",
       "       'Bulgaria', 'Israel',\n",
       "       ...\n",
       "       'Iran (Islamic Republic of)', 'Philippines', 'Nicaragua', 'Nigeria',\n",
       "       'Malawi', 'Sri Lanka', 'Mozambique', 'Morocco', 'Thailand', 'Congo'],\n",
       "      dtype='object', name='Country Name', length=115)"
      ]
     },
     "execution_count": 28,
     "metadata": {},
     "output_type": "execute_result"
    }
   ],
   "source": [
    "nb_cluster = 10\n",
    "\n",
    "cls = cluster.KMeans(n_clusters=nb_cluster)\n",
    "cls.fit(X_scaled)\n",
    "centroids = cls.cluster_centers_\n",
    "df0= pd.DataFrame(centroids, columns=['gdpppp', 'gini', 'Population', 'income'], index=[\"Cluster\" + str(i+1) for i in range(nb_cluster)])\n",
    "\n",
    "#Index trié des clusters\n",
    "idk = np.argsort(cls.labels_)\n",
    "\n",
    "#Affichage des observations selon leurs clusters\n",
    "df_cls = pd.DataFrame(df_clustering.index[idk], cls.labels_[idk]).reset_index()\n",
    "df_cls = df_cls.rename(columns={'index':'cluster'})\n",
    "df_clustering.index[idk]"
   ]
  },
  {
   "cell_type": "code",
   "execution_count": null,
   "metadata": {},
   "outputs": [],
   "source": [
    "#Formule pour le Clustering K-Means en N clusters (y)\n",
    "class Clustering :\n",
    "    def __init__(self, nb_cluster):\n",
    "        cls = cluster.KMeans(n_clusters=nb_cluster)\n",
    "        cls.fit(X_scaled)\n",
    "        centroids = cls.cluster_centers_\n",
    "        df0= pd.DataFrame(centroids, columns=['gdpppp', 'gini', 'Population', 'income'], index=[\"Cluster\" + str(i+1) for i in range(nb_cluster)])\n",
    "    \n",
    "        #Index trié des clusters\n",
    "        idk = np.argsort(cls.labels_)\n",
    "    \n",
    "        #Affichage des observations selon leurs clusters\n",
    "        df_cls = pd.DataFrame(df_clustering.index[idk], cls.labels_[idk]).reset_index()\n",
    "        df_cls = df_cls.rename(columns={'index':'cluster'})\n",
    "\n",
    "        #Jointure avec le dataframe initial selon les pays et condition 'inner' \n",
    "        df_cls = pd.merge(df_clustering, df_cls, on='Country Name')\n",
    "\n",
    "        #Clustering hiérarchique: création d'une Matrice des liens selon la Méthode de Ward\n",
    "        Z = linkage(X_scaled, method = 'ward', metric='euclidean')\n",
    "\n",
    "        #Calcul des composantes principales\n",
    "        n_comp = 4\n",
    "        pca = decomposition.PCA(n_components=n_comp)\n",
    "        pca.fit(X_scaled)\n",
    "\n",
    "        #Calcul des composantes principales\n",
    "        X_projected = pca.transform(X_scaled)\n",
    "        df_facto = pd.DataFrame(X_projected, index=df_cls.index, columns=['income','gdpppp','Population','gini'])\n",
    "        df_facto_groupe =  pd.merge(df_facto, df_cls,left_index=True, right_index=True) \n",
    "        df_facto_groupe = df_facto_groupe[['Country Name', 'Country Code', 'income_x', 'gdpppp_x', 'Population_x', 'gini_x', 'cluster']] \n",
    "        df_facto_groupe.rename(columns={'income_x': 'income', 'gdpppp_x': 'gdpppp', 'Population_x': 'Population','gini_x': 'gini', },  inplace=True)\n",
    "\n",
    "        #Affichage des pays les plus contributeurs avec restriction selon le cluster 0 \n",
    "        di = np.sum(X_scaled**2,axis=1)\n",
    "        ctr_indiv_inertie = pd.DataFrame({'c_inertie':di, 'Country Name':df_clustering.index, \n",
    "                                      'Country Code': df_cls['Country Code'], 'cluster': df_cls['cluster'], 'income':df_cls['income'],\n",
    "                                      'gdpppp': df_cls['gdpppp'], 'Population': df_cls['Population'], 'gini': df_cls['gini']}).sort_values(by='c_inertie',\n",
    "                                                                                                       ascending=False)\n",
    "        #Normalisation des données\n",
    "        pays_info_norm = preprocessing.scale(X)\n",
    "        km = cluster.KMeans(n_clusters = nb_cluster).fit(pays_info_norm)\n",
    "\n",
    "        #On determine les pays qui sont les plus proches des centroides des clusters\n",
    "        i_pays_plus_proches, _ = pairwise_distances_argmin_min(km.cluster_centers_, pays_info_norm)\n",
    "        pays_representatifs_cluster = df_cls.iloc[i_pays_plus_proches].sort_values('gdpppp', ascending=False)\n",
    "        pays_representatifs_cluster = pays_representatifs_cluster[['Country Name', 'Country Code', 'year', 'cluster', 'income', 'gdpppp', 'Population', 'gini' ]]\n",
    "        pays_representatifs_cluster.rename(columns={'Country Name': 'Pays', 'Country Code': 'Code' },  inplace=True)\n",
    "        \n",
    "        self.nb_cluster =nb_cluster\n",
    "        self.Z = Z\n",
    "        self.df_cls= df_cls\n",
    "        self.X_projected = X_projected\n",
    "        self.n_comp = n_comp\n",
    "        self.pca = pca\n",
    "        self.cls = cls\n",
    "        self.centroids = centroids\n",
    "        self.df0 = df0\n",
    "        self.idk = idk\n",
    "        self.df_facto = df_facto\n",
    "        self.df_facto_groupe = df_facto_groupe\n",
    "        self.di = di\n",
    "        self.ctr_indiv_inertie = ctr_indiv_inertie\n",
    "        self.pays_info_norm = pays_info_norm\n",
    "        self.km = km\n",
    "        self.i_pays_plus_proches = i_pays_plus_proches\n",
    "        self.pays_representatifs_cluster = pays_representatifs_cluster\n",
    "        self.X = X\n",
    "            \n",
    "    def pays_cluster (self):   \n",
    "        \n",
    "        return self.pays_representatifs_cluster\n",
    "            \n",
    "    def dendrogram (self):\n",
    "        \n",
    "        #Affichage d'un premier dendrogramme global \n",
    "        fig =plt.figure(figsize=(15,7))\n",
    "        sns.set_style('white')\n",
    "        plt.title('Hierarchical Clustering Dendrogram', fontsize=20)\n",
    "        plt.xlabel('Distance')\n",
    "        dendrogram(self.Z, labels = self.df_cls.index, leaf_font_size=7, color_threshold=3, orientation='top')\n",
    "         \n",
    "        \n",
    "    def projection (self):    \n",
    "        \n",
    "        display_factorial_planes(self.X_projected, self.n_comp, self.pca, [(0,1)], illustrative_var=self.df_cls['cluster'])\n",
    "        \n",
    "    def revenus (self):\n",
    "        \n",
    "        #Affichage liste des pays par cluster\n",
    "        fig =plt.figure(figsize=(15,12))\n",
    "\n",
    "        #Liste des pays retenus \n",
    "        country_list = self.pays_representatifs_cluster['Pays'].unique()\n",
    "        country_code = self.pays_representatifs_cluster['Code'].unique()\n",
    "\n",
    "        #Distribution des revenus \n",
    "        for x in country_list: \n",
    "            data = df[df['Country Name'] == x]\n",
    "            plt.plot(data['quantile'], np.log10(data['income']), label=x)\n",
    "            plt.title(\"Distribution des revenus\", fontsize=15, fontweight='bold')\n",
    "            plt.xlabel(\"Classes de revenus\", fontsize=15, fontweight='bold')\n",
    "            plt.ylabel(\"Revenu moyen\", fontsize=15, fontweight='bold')\n",
    "            plt.legend() \n",
    "            \n",
    "        self.country_list = country_list\n",
    "        self.country_code = country_code\n",
    "        self.data = data\n",
    "            \n",
    "    def lorenz (self):\n",
    "      #Courbe de Lorenz\n",
    "        plt.figure(figsize = (15, 12))\n",
    "        list_gini = []\n",
    "\n",
    "        for count in self.country_list:\n",
    "            # revenus_total_pays : Revenus total sur les 100 centiles\n",
    "            revenus_total_pays = df[df['Country Name']==count]['income'].sum()\n",
    "\n",
    "            dep = df[df['Country Name']==count]['income'].values\n",
    "            n = len(dep)\n",
    "\n",
    "            # lorenz : Courbe de lorenz\n",
    "            lorenz = (np.cumsum(np.sort(df[df['Country Name']==count]['income']))/revenus_total_pays)*100\n",
    "            lorenz = np.append([0],lorenz) \n",
    "            x = np.append([0],df[df['Country Name']==count]['quantile'])    \n",
    "            plt.plot(x,lorenz,linewidth=3, label=count)\n",
    "\n",
    "\n",
    "        plt.plot([0,100],[0,100],'grey',linestyle='--',linewidth=1.5, label='Cas parfaitement égalitaire')\n",
    "        plt.xlabel('Quantile de la population',fontsize=15,fontweight = 'bold')\n",
    "        plt.ylabel('% cumulé des revenus',fontsize=15,fontweight = 'bold')\n",
    "        plt.legend(loc='upper left',fontsize=10)\n",
    "        plt.grid(True,linestyle='--')\n",
    "        plt.title('Courbe de Lorenz : Population et revenus',fontsize=25,fontweight = 'bold')\n",
    "\n",
    "        plt.show()\n",
    "            \n",
    "        \n",
    "    def gini (self):\n",
    "\n",
    "        \n",
    "        plt.figure(figsize=(15,12))\n",
    "        for c_code, c_name in zip(self.country_code, self.country_list):   \n",
    "                plt.plot(gini_melt[gini_melt['Country Code']==c_code]['year'],\n",
    "                gini_melt[gini_melt['Country Code']==c_code]['gini'],linewidth=2, label=c_name)\n",
    "\n",
    "                plt.title(\"Évolution de l'indice de Gini entre 2004 et 2011\", fontsize=15, fontweight='bold')\n",
    "                plt.xlabel(\"Années\", fontsize=15, fontweight='bold')\n",
    "                plt.ylabel(\"Indice de Gini\", fontsize=15, fontweight='bold')\n",
    "                plt.legend()\n",
    "               \n"
   ]
  },
  {
   "cell_type": "code",
   "execution_count": null,
   "metadata": {},
   "outputs": [],
   "source": [
    "clustering = Clustering(10)"
   ]
  },
  {
   "cell_type": "code",
   "execution_count": null,
   "metadata": {},
   "outputs": [],
   "source": [
    "clustering.dendrogram()"
   ]
  },
  {
   "cell_type": "code",
   "execution_count": null,
   "metadata": {},
   "outputs": [],
   "source": [
    "clustering.projection()"
   ]
  },
  {
   "cell_type": "code",
   "execution_count": null,
   "metadata": {},
   "outputs": [],
   "source": [
    "clustering.pays_cluster()"
   ]
  },
  {
   "cell_type": "code",
   "execution_count": null,
   "metadata": {},
   "outputs": [],
   "source": [
    "pays_cluster = clustering.pays_cluster()\n",
    "pays_cluster = pays_cluster['Code'].tolist()\n",
    "pays_cluster"
   ]
  },
  {
   "cell_type": "code",
   "execution_count": null,
   "metadata": {},
   "outputs": [],
   "source": [
    "clustering.revenus()"
   ]
  },
  {
   "cell_type": "code",
   "execution_count": null,
   "metadata": {},
   "outputs": [],
   "source": [
    "clustering.lorenz()"
   ]
  },
  {
   "cell_type": "code",
   "execution_count": null,
   "metadata": {},
   "outputs": [],
   "source": [
    "clustering.gini()"
   ]
  },
  {
   "cell_type": "code",
   "execution_count": null,
   "metadata": {},
   "outputs": [],
   "source": [
    "#Utilisation de la fonction .rank() pour déterminer la position de chaque pays, dont la France\n",
    "gini_group = pd.DataFrame(gini_melt.groupby(['Country Code', 'Country Name']).gini.mean()).reset_index()\n",
    "gini_group['rang'] = gini_group['gini'].rank(ascending=True)\n",
    "\n",
    "#5 pays ayant l'indice de Gini le plus élevé\n",
    "print(\"Les 5 pays avec l'indice de Gini le plus élevé : \" )\n",
    "print(\"  \")\n",
    "print(gini_group.sort_values(by='gini', ascending=False).head())\n",
    "print(\"  \")\n",
    "print(\"  \")\n",
    "#5 pays ayant l'indice de Gini le plus faible\n",
    "print(\"Les 5 pays ayant l'indice de Gini le plus faible : \")\n",
    "print(\"  \")\n",
    "print(gini_group.sort_values(by='gini', ascending=True).head())\n",
    "print(\"  \")\n",
    "print(\"  \")\n",
    "#Position de la France \n",
    "print(\"La position de la France : \")\n",
    "print(\"  \")\n",
    "print(gini_group[gini_group['Country Name'] == 'France'])"
   ]
  },
  {
   "cell_type": "markdown",
   "metadata": {},
   "source": [
    "# Mission 3\n",
    "\n",
    "1. Générez un grand nombre de réalisations d'une variable selon une loi normale. Le choix de la moyenne et de l'écart-type n'auront pas d'incidence sur le résultat final. Il doit être supérieur à 1000 fois le nombre de quantiles.\n"
   ]
  },
  {
   "cell_type": "code",
   "execution_count": null,
   "metadata": {},
   "outputs": [],
   "source": [
    "#Chargement et traitement des données GDIM\n",
    "gdim = pd.read_csv(cwd + '/data/gdim.csv')\n",
    "gdim = gdim[['countryname', 'iso3', 'region', 'IGEincome']]\n",
    "gdim.rename(columns={'countryname': 'Country Name', 'iso3' : 'Country Code'}, inplace=True)\n",
    "gdim.drop_duplicates(inplace=True)\n",
    "gdim.drop_duplicates(subset=['Country Name'], keep = 'last', inplace=True)\n",
    "\n",
    "\n",
    "#Isolement des pays sans valeur pour la variable 'IGEincome'\n",
    "missing_gdim = gdim[gdim['IGEincome'].isna()]\n",
    "display(missing_gdim.tail())\n",
    "\n",
    "#Identification des pays sans valeur pour la variable 'IGEincome'\n",
    "missing_countries_gdim = missing_gdim['Country Code'].unique()\n",
    "missing_countries_gdim = list(missing_countries_gdim)\n",
    "print(\"  \")\n",
    "print(str(len(missing_countries_gdim)) +\" pays sans donnée GDIM\")\n",
    "\n",
    "#Visualisation des régions concernées \n",
    "list(missing_gdim.region.unique())"
   ]
  },
  {
   "cell_type": "code",
   "execution_count": null,
   "metadata": {},
   "outputs": [],
   "source": [
    "#Visualisation des pays concernés par la région 'High income'\n",
    "missing_gdim[missing_gdim['region'] == 'High income']['Country Name'].unique()\n",
    "\n",
    "#Boucle itérative afin d'imputer les valeurs NaN sur la variable 'IGEincome'\n",
    "for code in missing_countries_gdim :\n",
    "    if list(gdim.loc[gdim['Country Code'] == code, 'region']) == ['South Asia']:\n",
    "        gdim.loc[gdim['Country Code'] == code, 'IGEincome'] = 0.50\n",
    "    elif list(gdim.loc[gdim['Country Code'] == code, 'region']) == ['Sub-Saharan Africa']:\n",
    "        gdim.loc[gdim['Country Code'] == code, 'IGEincome'] = 0.66\n",
    "    elif list(gdim.loc[gdim['Country Code'] == code, 'region']) == ['Latin America & Caribbean']:\n",
    "        gdim.loc[gdim['Country Code'] == code, 'IGEincome'] = 0.66\n",
    "    elif list(gdim.loc[gdim['Country Code'] == code, 'region']) == ['Europe & Central Asia']:\n",
    "        gdim.loc[gdim['Country Code'] == code, 'IGEincome'] = 0.40                                                               \n",
    "    elif list(gdim.loc[gdim['Country Code'] == code, 'region']) == ['East Asia & Pacific']:\n",
    "        gdim.loc[gdim['Country Code'] == code, 'IGEincome'] = 0.50\n",
    "    else : gdim.loc[gdim['Country Code'] == code, 'IGEincome'] =  0.40\n",
    "\n",
    "#Jointure avec notre dataframe 'df' et celui obtenu 'gdim'\n",
    "#'IGEincome' sera renommé en 'pj'\n",
    "df_income_mobility = pd.merge(df, gdim[['Country Code', 'IGEincome']], how='left', on='Country Code')\n",
    "df_income_mobility.rename(columns={'IGEincome': 'pj'}, inplace=True)\n",
    "\n",
    "#Vérification des éventuelles valeurs manquantes\n",
    "last_list_missing_countries = list(df_income_mobility[df_income_mobility['pj'].isna()]['Country Name'].unique())\n",
    "last_list_missing_countries"
   ]
  },
  {
   "cell_type": "code",
   "execution_count": null,
   "metadata": {
    "scrolled": true
   },
   "outputs": [],
   "source": [
    "#Imputation des 2 dernières valeurs NaN dans le dataframe \n",
    "for country in last_list_missing_countries :\n",
    "    if list(df_income_mobility[df_income_mobility['Country Name'] == \"Kosovo\"]):\n",
    "        df_income_mobility.loc[df_income_mobility['Country Name'] == country, 'pj'] = 0.40\n",
    "    else : \n",
    "        df_income_mobility.loc[df_income_mobility['Country Name'] == country, 'pj'] = 0.50\n",
    "        \n",
    "#Dernière validation de la complétude du dataframe \"df_income_mobility\"\n",
    "df_income_mobility.isna().any()"
   ]
  },
  {
   "cell_type": "code",
   "execution_count": null,
   "metadata": {},
   "outputs": [],
   "source": [
    "def generate_incomes(n, pj):\n",
    "    # On génère les revenus des parents (exprimés en logs) selon une loi normale.\n",
    "    # La moyenne et variance n'ont aucune incidence sur le résultat final (ie. sur le caclul de la classe de revenu)\n",
    "    \n",
    "    #(Question1)\n",
    "    ln_y_parent = st.norm(0,1).rvs(size=n)\n",
    "    \n",
    "    #(Question2)\n",
    "    # Génération d'une réalisation du terme d'erreur epsilon\n",
    "    residues = st.norm(0,1).rvs(size=n)\n",
    "    return np.exp(pj*ln_y_parent + residues), np.exp(ln_y_parent)\n",
    "    \n",
    "#(Question 3 et 4)Pour chacun des n individus générés, les classes de revenu sont calculées selon ychild et yparent    \n",
    "def quantiles(l, nb_quantiles):\n",
    "    size = len(l)\n",
    "    assert(size!=0)\n",
    "    l_sorted = l.copy()\n",
    "    l_sorted = l_sorted.sort_values()\n",
    "    quantiles = np.round(np.arange(1, nb_quantiles+1, nb_quantiles/size) -0.5 +1./size)\n",
    "    q_dict = {a:int(b) for a,b in zip(l_sorted,quantiles)}\n",
    "    return pd.Series([q_dict[e] for e in l])\n",
    "\n",
    "def compute_quantiles(y_child, y_parents, nb_quantiles):\n",
    "    y_child = pd.Series(y_child)\n",
    "    y_parents = pd.Series(y_parents)\n",
    "    c_i_child = quantiles(y_child, nb_quantiles)\n",
    "    c_i_parent = quantiles(y_parents, nb_quantiles)\n",
    "    sample = pd.concat([y_child, y_parents, c_i_child, c_i_parent], axis=1)\n",
    "    sample.columns = [\"y_child\", \"y_parents\", \"c_i_child\",\"c_i_parent\"]\n",
    "    return sample\n",
    "\n",
    "#(Question 5)\n",
    "def distribution(counts, nb_quantiles):\n",
    "    distrib = []\n",
    "    total = counts[\"counts\"].sum()\n",
    "    \n",
    "    if total == 0 :\n",
    "        return [0] * nb_quantiles\n",
    "    \n",
    "    for q_p in range(1, nb_quantiles+1):\n",
    "        subset = counts[counts.c_i_parent == q_p]\n",
    "        if len(subset):\n",
    "            nb = subset[\"counts\"].values[0]\n",
    "            distrib += [nb / total]\n",
    "        else:\n",
    "            distrib += [0]\n",
    "    return distrib   \n",
    "\n",
    "def conditional_distributions(sample, nb_quantiles):\n",
    "    counts = sample.groupby([\"c_i_child\",\"c_i_parent\"]).apply(len)\n",
    "    counts = counts.reset_index()\n",
    "    counts.columns = [\"c_i_child\",\"c_i_parent\",\"counts\"]\n",
    "    \n",
    "    mat = []\n",
    "    for child_quantile in np.arange(nb_quantiles)+1:\n",
    "        subset = counts[counts.c_i_child == child_quantile]\n",
    "        mat += [distribution(subset, nb_quantiles)]\n",
    "    return np.array(mat) \n",
    "\n",
    "def plot_conditional_distributions(p, cd, nb_quantiles):\n",
    "    plt.figure()\n",
    "    \n",
    "    # La ligne suivante sert à afficher un graphique en \"stack bars\", sur ce modèle : https://matplotlib.org/gallery/lines_bars_and_markers/bar_stacked.html\n",
    "    cumul = np.array([0] * nb_quantiles)\n",
    "    \n",
    "    for i, child_quantile in enumerate(cd):\n",
    "        plt.bar(np.arange(nb_quantiles)+1, child_quantile, bottom=cumul, width=0.95, label = str(i+1) +\"e\")\n",
    "        cumul = cumul + np.array(child_quantile)\n",
    "\n",
    "    plt.axis([.5, nb_quantiles*1.3 ,0 ,1])\n",
    "    plt.title(\"p=\" + str(p))\n",
    "    plt.legend()\n",
    "    plt.xlabel(\"quantile parents\")\n",
    "    plt.ylabel(\"probabilité du quantile enfant\")\n",
    "    plt.show()\n",
    "    \n",
    "def proba_cond(c_i_parent, c_i_child, mat):\n",
    "    return mat[c_i_child, c_i_parent]\n",
    "\n",
    "#(Question 6)\n",
    "pj = 0.9                 # coefficient d'élasticité du pays j\n",
    "nb_quantiles = 10       # nombre de quantiles (nombre de classes de revenu)\n",
    "n  = 1000*nb_quantiles   # taille de l'échantillon\n",
    "\n",
    "y_child, y_parents = generate_incomes(n, pj)\n",
    "sample = compute_quantiles(y_child, y_parents, nb_quantiles)\n",
    "cd = conditional_distributions(sample, nb_quantiles)\n",
    "#(Question 6)\n",
    "plot_conditional_distributions(pj, cd, nb_quantiles) # Cette instruction prendra du temps si nb_quantiles > 10\n",
    "print(cd)\n",
    "\n",
    "c_i_child = 5 \n",
    "c_i_parent = 8\n",
    "p = proba_cond(c_i_parent, c_i_child, cd)\n",
    "print(\"\\nP(c_i_parent = {} | c_i_child = {}, pj = {}) = {}\".format(c_i_parent, c_i_child, pj, p))"
   ]
  },
  {
   "cell_type": "code",
   "execution_count": null,
   "metadata": {},
   "outputs": [],
   "source": [
    "#Visualisation des 5 premières classes de revenu enfants et parents\n",
    "display(sample.head())\n",
    "display(sample.shape)"
   ]
  },
  {
   "cell_type": "code",
   "execution_count": null,
   "metadata": {},
   "outputs": [],
   "source": [
    "#(Question 7)\n",
    "#Pour éviter toute confusion, les individus générés sont supprimés (car inutiles pour la suite)\n",
    "#seules les distributions conditionnelles sont conservées.\n",
    "sample = sample.iloc[:, 2:]\n",
    "\n",
    "#(Question 8)\n",
    "#Nouvel échantillon : 500 fois plus grand que celui de la World Income Distribution\n",
    "#Cet échantillon sera nommé \"df_wid500\", clone représentatif des individus de la WID\n",
    "df_wid = df_income_mobility[['Country Code', 'Country Name', 'quantile', 'Population', \n",
    "                                'income', 'income', 'gini', 'pj']]\n",
    "\n",
    "df_wid500 = pd.concat([df_wid]*500, ignore_index=True)\n",
    "\n",
    "#(Question 9)\n",
    "#Attribution des classes parents aux 500 individus de chaque pays\n",
    "#Coefficient d'élasticité / code pays\n",
    "country_income = df_income_mobility[['Country Code', 'pj']]\n",
    "\n",
    "#Création d'une liste qui va de 1 à 101\n",
    "liste_quantile = [i for i in range(1, 101)]\n",
    "\n",
    "#Création de la liste des 116 pays qui sont dans la base\n",
    "liste_pays = df_wid500[\"Country Code\"].drop_duplicates().to_list()"
   ]
  },
  {
   "cell_type": "code",
   "execution_count": null,
   "metadata": {},
   "outputs": [],
   "source": [
    "def c_parent (l_pays, l_quantile, multiplicateur, nb_quantiles_all):\n",
    "    l_df = []\n",
    "    for pays in tqdm(l_pays):\n",
    "        for quantile in l_quantile:\n",
    "            df_wid_mult = df_wid.copy()\n",
    "            df_wid_mult.rename(columns={'Country Name': 'country', 'Country Code': 'country_code'},  inplace=True)\n",
    "            df_income_avg = df_wid_mult[['country_code','income']].groupby('country_code').mean().reset_index()\n",
    "            df_income_avg.rename(columns={'income':'income_avg'}, inplace=True)\n",
    "            df_wid_mult = df_wid_mult.merge(df_income_avg, how='left', on='country_code')\n",
    "            df_c_i_parent = pd.concat([df_wid_mult]*multiplicateur, ignore_index=True)\n",
    "            df_c_i_parent = df_c_i_parent[(df_c_i_parent[\"quantile\"]== quantile)&(df_c_i_parent[\"country_code\"]== pays)]\n",
    "            df_c_i_parent.rename(columns={'quantile': 'c_i_child'},  inplace=True)\n",
    "            \n",
    "            pj_c_parent = df_c_i_parent.pj.iloc[0]\n",
    "            y_child, y_parents = generate_incomes(n, pj_c_parent)\n",
    "            sample_final = compute_quantiles(y_child, y_parents, nb_quantiles_all)\n",
    "            cd = conditional_distributions(sample_final, nb_quantiles_all)\n",
    "\n",
    "            distribuition_parent = np.floor(cd[quantile-1]*multiplicateur)\n",
    "            sum_dp = sum(distribuition_parent)\n",
    "            diff = int(multiplicateur - sum_dp)\n",
    "            quantite_quantile = list(distribuition_parent)\n",
    "            \n",
    "            df_distribution = pd.DataFrame(quantite_quantile, columns =['qnt'])\n",
    "            df_distribution = df_distribution.sort_values(by = 'qnt', ascending = False).reset_index()\n",
    "            df_distribution['qnt'] = [int(i) if n >= diff else int(i+1) for n, i in enumerate(distribuition_parent)]\n",
    "           \n",
    "            df_c_i_parent['c_i_parent'] = NaN\n",
    "            nn = 0\n",
    "            mm = 0\n",
    "            for i in range(len(df_distribution)):\n",
    "                mm = mm + df_distribution['qnt'][i]\n",
    "                df_c_i_parent.iloc[nn:mm, -1] = df_distribution['index'][i] + 1\n",
    "                nn = nn + df_distribution['qnt'][i]\n",
    "            l_df.append(df_c_i_parent)\n",
    "        df = pd.concat(l_df)\n",
    "        df = df.loc[:,~df.columns.duplicated()]\n",
    "        df = df.reset_index()\n",
    "        df.drop(['index'],  axis=1, inplace=True)\n",
    "    return df"
   ]
  },
  {
   "cell_type": "code",
   "execution_count": null,
   "metadata": {},
   "outputs": [],
   "source": [
    "c_parent(['FRA', 'ECU', 'VEN'], [1], 100, 100)"
   ]
  },
  {
   "cell_type": "code",
   "execution_count": null,
   "metadata": {},
   "outputs": [],
   "source": [
    "#Calcul du df x500 avec les 100 quantiles\n",
    "if os.path.isfile(cwd + '/df_m3.pic'):\n",
    "    df_mission3 = pickle.load(open(cwd + '/df_m3.pic', 'rb'))\n",
    "else:\n",
    "    df_mission3 = c_parent(liste_pays, liste_quantile, 500, 100)\n",
    "    with open(cwd + '/df_m3.pic', 'wb') as f:\n",
    "        pickle.dump(df_mission3, f)\n",
    "df_mission3"
   ]
  },
  {
   "cell_type": "code",
   "execution_count": null,
   "metadata": {},
   "outputs": [],
   "source": [
    "#Calcul du df x10 avec les 100 quantiles\n",
    "if os.path.isfile(cwd + '/final_df_dix.pic'):\n",
    "    final_df_dix = pickle.load(open(cwd + '/final_df_dix.pic', 'rb'))\n",
    "else:\n",
    "    final_df_dix = c_parent(liste_pays, liste_quantile, 10, 100)\n",
    "    with open(cwd + '/final_df_dix.pic', 'wb') as f:\n",
    "        pickle.dump(final_df_dix, f)\n",
    "final_df_dix"
   ]
  },
  {
   "cell_type": "code",
   "execution_count": null,
   "metadata": {},
   "outputs": [],
   "source": [
    "#Calcul du df x50 avec les 100 quantiles\n",
    "if os.path.isfile(cwd + '/final_df_50.pic'):\n",
    "    final_df_50 = pickle.load(open(cwd + '/final_df_50.pic', 'rb'))\n",
    "else:\n",
    "    final_df_50 = c_parent(liste_pays, liste_quantile, 50, 100)\n",
    "    with open(cwd + '/final_df_50.pic', 'wb') as f:\n",
    "        pickle.dump(final_df_50, f)\n",
    "final_df_50"
   ]
  },
  {
   "cell_type": "code",
   "execution_count": null,
   "metadata": {},
   "outputs": [],
   "source": [
    "#Calcul du df x100 avec les 100 quantiles\n",
    "if os.path.isfile(cwd + '/final_df_100.pic'):\n",
    "    final_df_100 = pickle.load(open(cwd + '/final_df_100.pic', 'rb'))\n",
    "else:\n",
    "    final_df_100 = c_parent(liste_pays, liste_quantile, 100, 100)\n",
    "    with open(cwd + '/final_df_100.pic', 'wb') as f:\n",
    "        pickle.dump(final_df_100, f)\n",
    "final_df_100"
   ]
  },
  {
   "cell_type": "code",
   "execution_count": null,
   "metadata": {},
   "outputs": [],
   "source": []
  },
  {
   "cell_type": "code",
   "execution_count": null,
   "metadata": {},
   "outputs": [],
   "source": []
  }
 ],
 "metadata": {
  "kernelspec": {
   "display_name": "Python 3",
   "language": "python",
   "name": "python3"
  },
  "language_info": {
   "codemirror_mode": {
    "name": "ipython",
    "version": 3
   },
   "file_extension": ".py",
   "mimetype": "text/x-python",
   "name": "python",
   "nbconvert_exporter": "python",
   "pygments_lexer": "ipython3",
   "version": "3.8.5"
  }
 },
 "nbformat": 4,
 "nbformat_minor": 4
}
